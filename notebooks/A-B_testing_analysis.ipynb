{
 "metadata": {
  "language_info": {
   "codemirror_mode": {
    "name": "ipython",
    "version": 3
   },
   "file_extension": ".py",
   "mimetype": "text/x-python",
   "name": "python",
   "nbconvert_exporter": "python",
   "pygments_lexer": "ipython3",
   "version": "3.7.10"
  },
  "orig_nbformat": 4,
  "kernelspec": {
   "name": "python3",
   "display_name": "Python 3.7.10 64-bit ('ab_testing': venv)"
  },
  "interpreter": {
   "hash": "bc7bcaded71626eadc3297f6b48420418c16a86c8e632b157b87fa4ea76d2e56"
  }
 },
 "nbformat": 4,
 "nbformat_minor": 2,
 "cells": [
  {
   "cell_type": "code",
   "execution_count": 1,
   "metadata": {},
   "outputs": [],
   "source": [
    "import pandas as pd\n",
    "import sys  \n",
    "sys.path.insert(0, '../scripts')\n",
    "import clean_data\n",
    "import utilities\n",
    "import norm_scaling\n",
    "import loading_data"
   ]
  },
  {
   "source": [
    "Perform data exploration to count unique values of categorical variables, make histogram, relational, and other necessary plots to help understand the data. "
   ],
   "cell_type": "markdown",
   "metadata": {}
  },
  {
   "source": [
    "## Data Exploration"
   ],
   "cell_type": "markdown",
   "metadata": {}
  },
  {
   "source": [
    "#### Load data"
   ],
   "cell_type": "markdown",
   "metadata": {}
  },
  {
   "cell_type": "code",
   "execution_count": 2,
   "metadata": {},
   "outputs": [
    {
     "output_type": "stream",
     "name": "stderr",
     "text": [
      "/home/dibora/Testing-A-B/ab_testing/lib/python3.7/site-packages/ipykernel_launcher.py:2: FutureWarning: The error_bad_lines argument has been deprecated and will be removed in a future version.\n\n\n  \n"
     ]
    }
   ],
   "source": [
    "# load data\n",
    "df = loading_data.load_csv('../Data/AdSmartABdata.csv')"
   ]
  },
  {
   "cell_type": "code",
   "execution_count": 3,
   "metadata": {},
   "outputs": [
    {
     "output_type": "execute_result",
     "data": {
      "text/plain": [
       "                             auction_id experiment        date  hour  \\\n",
       "0  0008ef63-77a7-448b-bd1e-075f42c55e39    exposed  2020-07-10     8   \n",
       "1  000eabc5-17ce-4137-8efe-44734d914446    exposed  2020-07-07    10   \n",
       "2  0016d14a-ae18-4a02-a204-6ba53b52f2ed    exposed  2020-07-05     2   \n",
       "3  00187412-2932-4542-a8ef-3633901c98d9    control  2020-07-03    15   \n",
       "4  001a7785-d3fe-4e11-a344-c8735acacc2c    control  2020-07-03    15   \n",
       "5  0027ce48-d3c6-4935-bb12-dfb5d5627857    control  2020-07-03    15   \n",
       "6  002e308b-1a07-49d6-8560-0fbcdcd71e4b    control  2020-07-03    15   \n",
       "7  00393fb9-ca32-40c0-bfcb-1bd83f319820    control  2020-07-09     5   \n",
       "8  004940f5-c642-417a-8fd2-c8e5d989f358    exposed  2020-07-04     0   \n",
       "9  004c4cc9-f2ca-4df7-adc9-3d0c3c4f0342    control  2020-07-05    14   \n",
       "\n",
       "          device_make  platform_os                browser  yes  no  \n",
       "0  Generic Smartphone            6          Chrome Mobile    0   0  \n",
       "1  Generic Smartphone            6          Chrome Mobile    0   0  \n",
       "2               E5823            6  Chrome Mobile WebView    0   1  \n",
       "3   Samsung SM-A705FN            6               Facebook    0   0  \n",
       "4  Generic Smartphone            6          Chrome Mobile    0   0  \n",
       "5    Samsung SM-G960F            6               Facebook    0   0  \n",
       "6  Generic Smartphone            6          Chrome Mobile    0   0  \n",
       "7    Samsung SM-G973F            6               Facebook    0   0  \n",
       "8  Generic Smartphone            6  Chrome Mobile WebView    0   0  \n",
       "9  Generic Smartphone            6          Chrome Mobile    0   0  "
      ],
      "text/html": "<div>\n<style scoped>\n    .dataframe tbody tr th:only-of-type {\n        vertical-align: middle;\n    }\n\n    .dataframe tbody tr th {\n        vertical-align: top;\n    }\n\n    .dataframe thead th {\n        text-align: right;\n    }\n</style>\n<table border=\"1\" class=\"dataframe\">\n  <thead>\n    <tr style=\"text-align: right;\">\n      <th></th>\n      <th>auction_id</th>\n      <th>experiment</th>\n      <th>date</th>\n      <th>hour</th>\n      <th>device_make</th>\n      <th>platform_os</th>\n      <th>browser</th>\n      <th>yes</th>\n      <th>no</th>\n    </tr>\n  </thead>\n  <tbody>\n    <tr>\n      <th>0</th>\n      <td>0008ef63-77a7-448b-bd1e-075f42c55e39</td>\n      <td>exposed</td>\n      <td>2020-07-10</td>\n      <td>8</td>\n      <td>Generic Smartphone</td>\n      <td>6</td>\n      <td>Chrome Mobile</td>\n      <td>0</td>\n      <td>0</td>\n    </tr>\n    <tr>\n      <th>1</th>\n      <td>000eabc5-17ce-4137-8efe-44734d914446</td>\n      <td>exposed</td>\n      <td>2020-07-07</td>\n      <td>10</td>\n      <td>Generic Smartphone</td>\n      <td>6</td>\n      <td>Chrome Mobile</td>\n      <td>0</td>\n      <td>0</td>\n    </tr>\n    <tr>\n      <th>2</th>\n      <td>0016d14a-ae18-4a02-a204-6ba53b52f2ed</td>\n      <td>exposed</td>\n      <td>2020-07-05</td>\n      <td>2</td>\n      <td>E5823</td>\n      <td>6</td>\n      <td>Chrome Mobile WebView</td>\n      <td>0</td>\n      <td>1</td>\n    </tr>\n    <tr>\n      <th>3</th>\n      <td>00187412-2932-4542-a8ef-3633901c98d9</td>\n      <td>control</td>\n      <td>2020-07-03</td>\n      <td>15</td>\n      <td>Samsung SM-A705FN</td>\n      <td>6</td>\n      <td>Facebook</td>\n      <td>0</td>\n      <td>0</td>\n    </tr>\n    <tr>\n      <th>4</th>\n      <td>001a7785-d3fe-4e11-a344-c8735acacc2c</td>\n      <td>control</td>\n      <td>2020-07-03</td>\n      <td>15</td>\n      <td>Generic Smartphone</td>\n      <td>6</td>\n      <td>Chrome Mobile</td>\n      <td>0</td>\n      <td>0</td>\n    </tr>\n    <tr>\n      <th>5</th>\n      <td>0027ce48-d3c6-4935-bb12-dfb5d5627857</td>\n      <td>control</td>\n      <td>2020-07-03</td>\n      <td>15</td>\n      <td>Samsung SM-G960F</td>\n      <td>6</td>\n      <td>Facebook</td>\n      <td>0</td>\n      <td>0</td>\n    </tr>\n    <tr>\n      <th>6</th>\n      <td>002e308b-1a07-49d6-8560-0fbcdcd71e4b</td>\n      <td>control</td>\n      <td>2020-07-03</td>\n      <td>15</td>\n      <td>Generic Smartphone</td>\n      <td>6</td>\n      <td>Chrome Mobile</td>\n      <td>0</td>\n      <td>0</td>\n    </tr>\n    <tr>\n      <th>7</th>\n      <td>00393fb9-ca32-40c0-bfcb-1bd83f319820</td>\n      <td>control</td>\n      <td>2020-07-09</td>\n      <td>5</td>\n      <td>Samsung SM-G973F</td>\n      <td>6</td>\n      <td>Facebook</td>\n      <td>0</td>\n      <td>0</td>\n    </tr>\n    <tr>\n      <th>8</th>\n      <td>004940f5-c642-417a-8fd2-c8e5d989f358</td>\n      <td>exposed</td>\n      <td>2020-07-04</td>\n      <td>0</td>\n      <td>Generic Smartphone</td>\n      <td>6</td>\n      <td>Chrome Mobile WebView</td>\n      <td>0</td>\n      <td>0</td>\n    </tr>\n    <tr>\n      <th>9</th>\n      <td>004c4cc9-f2ca-4df7-adc9-3d0c3c4f0342</td>\n      <td>control</td>\n      <td>2020-07-05</td>\n      <td>14</td>\n      <td>Generic Smartphone</td>\n      <td>6</td>\n      <td>Chrome Mobile</td>\n      <td>0</td>\n      <td>0</td>\n    </tr>\n  </tbody>\n</table>\n</div>"
     },
     "metadata": {},
     "execution_count": 3
    }
   ],
   "source": [
    "df.head(10)"
   ]
  },
  {
   "source": [
    "#### Explore data\n",
    "After loading data. Collecting information like column names, distribution information, null counts, univariate analysis, plots etc"
   ],
   "cell_type": "markdown",
   "metadata": {}
  },
  {
   "cell_type": "code",
   "execution_count": 4,
   "metadata": {},
   "outputs": [
    {
     "output_type": "execute_result",
     "data": {
      "text/plain": [
       "Index(['auction_id', 'experiment', 'date', 'hour', 'device_make',\n",
       "       'platform_os', 'browser', 'yes', 'no'],\n",
       "      dtype='object')"
      ]
     },
     "metadata": {},
     "execution_count": 4
    }
   ],
   "source": [
    "# column names\n",
    "df.columns"
   ]
  },
  {
   "cell_type": "code",
   "execution_count": 7,
   "metadata": {},
   "outputs": [
    {
     "output_type": "stream",
     "name": "stdout",
     "text": [
      "<class 'pandas.core.frame.DataFrame'>\nRangeIndex: 8077 entries, 0 to 8076\nData columns (total 9 columns):\n #   Column       Non-Null Count  Dtype \n---  ------       --------------  ----- \n 0   auction_id   8077 non-null   object\n 1   experiment   8077 non-null   object\n 2   date         8077 non-null   object\n 3   hour         8077 non-null   int64 \n 4   device_make  8077 non-null   object\n 5   platform_os  8077 non-null   int64 \n 6   browser      8077 non-null   object\n 7   yes          8077 non-null   int64 \n 8   no           8077 non-null   int64 \ndtypes: int64(4), object(5)\nmemory usage: 568.0+ KB\n"
     ]
    }
   ],
   "source": [
    "# information about data\n",
    "df.info()"
   ]
  },
  {
   "cell_type": "code",
   "execution_count": 8,
   "metadata": {},
   "outputs": [
    {
     "output_type": "execute_result",
     "data": {
      "text/plain": [
       "          hour  platform_os      yes       no\n",
       "count 8,077.00     8,077.00 8,077.00 8,077.00\n",
       "mean     11.62         5.95     0.07     0.08\n",
       "std       5.73         0.22     0.26     0.28\n",
       "min       0.00         5.00     0.00     0.00\n",
       "25%       7.00         6.00     0.00     0.00\n",
       "50%      13.00         6.00     0.00     0.00\n",
       "75%      15.00         6.00     0.00     0.00\n",
       "max      23.00         7.00     1.00     1.00"
      ],
      "text/html": "<div>\n<style scoped>\n    .dataframe tbody tr th:only-of-type {\n        vertical-align: middle;\n    }\n\n    .dataframe tbody tr th {\n        vertical-align: top;\n    }\n\n    .dataframe thead th {\n        text-align: right;\n    }\n</style>\n<table border=\"1\" class=\"dataframe\">\n  <thead>\n    <tr style=\"text-align: right;\">\n      <th></th>\n      <th>hour</th>\n      <th>platform_os</th>\n      <th>yes</th>\n      <th>no</th>\n    </tr>\n  </thead>\n  <tbody>\n    <tr>\n      <th>count</th>\n      <td>8,077.00</td>\n      <td>8,077.00</td>\n      <td>8,077.00</td>\n      <td>8,077.00</td>\n    </tr>\n    <tr>\n      <th>mean</th>\n      <td>11.62</td>\n      <td>5.95</td>\n      <td>0.07</td>\n      <td>0.08</td>\n    </tr>\n    <tr>\n      <th>std</th>\n      <td>5.73</td>\n      <td>0.22</td>\n      <td>0.26</td>\n      <td>0.28</td>\n    </tr>\n    <tr>\n      <th>min</th>\n      <td>0.00</td>\n      <td>5.00</td>\n      <td>0.00</td>\n      <td>0.00</td>\n    </tr>\n    <tr>\n      <th>25%</th>\n      <td>7.00</td>\n      <td>6.00</td>\n      <td>0.00</td>\n      <td>0.00</td>\n    </tr>\n    <tr>\n      <th>50%</th>\n      <td>13.00</td>\n      <td>6.00</td>\n      <td>0.00</td>\n      <td>0.00</td>\n    </tr>\n    <tr>\n      <th>75%</th>\n      <td>15.00</td>\n      <td>6.00</td>\n      <td>0.00</td>\n      <td>0.00</td>\n    </tr>\n    <tr>\n      <th>max</th>\n      <td>23.00</td>\n      <td>7.00</td>\n      <td>1.00</td>\n      <td>1.00</td>\n    </tr>\n  </tbody>\n</table>\n</div>"
     },
     "metadata": {},
     "execution_count": 8
    }
   ],
   "source": [
    "# statistical information about data\n",
    "df.describe()"
   ]
  },
  {
   "cell_type": "code",
   "execution_count": 9,
   "metadata": {},
   "outputs": [
    {
     "output_type": "execute_result",
     "data": {
      "text/plain": [
       "auction_id     0\n",
       "experiment     0\n",
       "date           0\n",
       "hour           0\n",
       "device_make    0\n",
       "platform_os    0\n",
       "browser        0\n",
       "yes            0\n",
       "no             0\n",
       "dtype: int64"
      ]
     },
     "metadata": {},
     "execution_count": 9
    }
   ],
   "source": [
    "# count null values\n",
    "df.isnull().sum()"
   ]
  },
  {
   "source": [
    "##### Interpretations\n",
    "So far Information on the data\n",
    "- 8077x9 size\n",
    "- no columns containing missing values\n",
    "- column names = 'auction_id', 'experiment', 'date', 'hour', 'device_make',\n",
    "       'platform_os', 'browser', 'yes', 'no'\n",
    "- categorical cols = 'auction_id', 'experiment', 'date', 'device_make',\n",
    "        'browser'"
   ],
   "cell_type": "markdown",
   "metadata": {}
  },
  {
   "source": [
    "##### Plots"
   ],
   "cell_type": "markdown",
   "metadata": {}
  },
  {
   "cell_type": "code",
   "execution_count": null,
   "metadata": {},
   "outputs": [],
   "source": []
  },
  {
   "cell_type": "code",
   "execution_count": null,
   "metadata": {},
   "outputs": [],
   "source": []
  },
  {
   "source": [
    "##### Interpretations"
   ],
   "cell_type": "markdown",
   "metadata": {}
  },
  {
   "source": [
    "For each of the plots you produce, write a description of what the plot shows in markdown cells.\n"
   ],
   "cell_type": "markdown",
   "metadata": {}
  },
  {
   "cell_type": "code",
   "execution_count": null,
   "metadata": {},
   "outputs": [],
   "source": []
  },
  {
   "source": [
    "### Hyphotehsis Testing"
   ],
   "cell_type": "markdown",
   "metadata": {}
  },
  {
   "source": [
    "Perform hypothesis testing: apply the classical p-value based algorithm and the  sequential A/B testing algorithm for which a starter code is provided..\n"
   ],
   "cell_type": "markdown",
   "metadata": {}
  },
  {
   "source": [
    "#### Classical p-value based algorithm"
   ],
   "cell_type": "markdown",
   "metadata": {}
  },
  {
   "source": [
    "#### Sequential A/B testing algorithm\n",
    "A type of algorithm where testing happens in sequence with only one changing factor, which has its advantages since we arenot considering when factors interact. "
   ],
   "cell_type": "markdown",
   "metadata": {}
  },
  {
   "source": [
    "#### Interpretations and answers"
   ],
   "cell_type": "markdown",
   "metadata": {}
  },
  {
   "source": [
    "Are the number of data points in the experiment enough to make a reasonable judgement or should the company run a longer experiment? Remember that running the experiment longer may be costly for many reasons, so you should always optimize the number of samples to make a statistically sound decision.\n",
    "\n"
   ],
   "cell_type": "markdown",
   "metadata": {}
  },
  {
   "source": [
    "What does your A/B testing analysis tell you? Is brand awareness increased for the exposed group?"
   ],
   "cell_type": "markdown",
   "metadata": {}
  }
 ]
}