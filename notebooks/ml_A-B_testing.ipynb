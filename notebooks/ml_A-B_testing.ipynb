{
 "cells": [
  {
   "cell_type": "code",
   "execution_count": 2,
   "source": [
    "import pandas as pd\n",
    "import sys  \n",
    "sys.path.insert(0, '../scripts')\n",
    "import utilities\n",
    "import seaborn as sn\n",
    "import matplotlib.pyplot as plt\n",
    "# import norm_scaling\n",
    "import loading_data"
   ],
   "outputs": [],
   "metadata": {}
  },
  {
   "cell_type": "code",
   "execution_count": 3,
   "source": [
    "# load data\n",
    "df = loading_data.load_csv('../Data/AdSmartABdata.csv')"
   ],
   "outputs": [
    {
     "output_type": "stream",
     "name": "stderr",
     "text": [
      "/home/dibora/Testing-A-B/ab_testing/lib/python3.7/site-packages/ipykernel_launcher.py:2: FutureWarning: The error_bad_lines argument has been deprecated and will be removed in a future version.\n",
      "\n",
      "\n",
      "  \n"
     ]
    }
   ],
   "metadata": {}
  },
  {
   "cell_type": "markdown",
   "source": [
    "### Split data by browser and platform_os, and version each split as a new version of the data in dvc.\n"
   ],
   "metadata": {}
  },
  {
   "cell_type": "code",
   "execution_count": 7,
   "source": [
    "df_browser = df.groupby(\"browser\")\n",
    "df_os = df.groupby(\"platform_os\")"
   ],
   "outputs": [],
   "metadata": {}
  },
  {
   "cell_type": "markdown",
   "source": [
    "## Machine Learning for A/B Testing\n",
    "Using Machine Learning for A/B Testing allows to consider different features when doing our analysis."
   ],
   "metadata": {}
  },
  {
   "cell_type": "code",
   "execution_count": null,
   "source": [
    "# Split the data into 70% training, 20% validation, and 10% test sets. \n"
   ],
   "outputs": [],
   "metadata": {}
  },
  {
   "cell_type": "code",
   "execution_count": null,
   "source": [
    "#  Train a machine learning model using 5-fold cross validation using the following 3 different algorithms:\n",
    "# Logistic Regression \n",
    "# Decision Trees\n",
    "# XGBoost\n"
   ],
   "outputs": [],
   "metadata": {}
  },
  {
   "cell_type": "code",
   "execution_count": null,
   "source": [
    "Define the appropriate loss function  for the model using the validation data. \n"
   ],
   "outputs": [],
   "metadata": {}
  },
  {
   "cell_type": "code",
   "execution_count": null,
   "source": [
    "Compute feature importance - what’s driving the model? Which parameters are important predictors for the different ML models? What contributes to the goal of gaining more “Yes” results?\n",
    "Which data features are relevant to predicting the target variable?\n",
    "\n"
   ],
   "outputs": [],
   "metadata": {}
  },
  {
   "cell_type": "code",
   "execution_count": null,
   "source": [
    "For each of the ML algorithms above, find the best model by tuning their hyperparameters and each time adding the tried models in MLFlow.\n",
    "Prepare a Dockerfile for your project so that your model can be deployed in a docker container."
   ],
   "outputs": [],
   "metadata": {}
  }
 ],
 "metadata": {
  "orig_nbformat": 4,
  "language_info": {
   "name": "python",
   "version": "3.7.10",
   "mimetype": "text/x-python",
   "codemirror_mode": {
    "name": "ipython",
    "version": 3
   },
   "pygments_lexer": "ipython3",
   "nbconvert_exporter": "python",
   "file_extension": ".py"
  },
  "kernelspec": {
   "name": "python3",
   "display_name": "Python 3.7.10 64-bit ('ab_testing': venv)"
  },
  "interpreter": {
   "hash": "bc7bcaded71626eadc3297f6b48420418c16a86c8e632b157b87fa4ea76d2e56"
  }
 },
 "nbformat": 4,
 "nbformat_minor": 2
}